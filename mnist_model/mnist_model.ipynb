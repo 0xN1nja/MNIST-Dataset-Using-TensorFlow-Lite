{
 "cells": [
  {
   "cell_type": "code",
   "execution_count": 1,
   "id": "badd1a13",
   "metadata": {},
   "outputs": [],
   "source": [
    "import tensorflow as tf\n",
    "import numpy as np\n",
    "import matplotlib.pyplot as plt"
   ]
  },
  {
   "cell_type": "code",
   "execution_count": 2,
   "id": "0bca4050",
   "metadata": {},
   "outputs": [],
   "source": [
    "(x_train,y_train),(x_test,y_test)=tf.keras.datasets.mnist.load_data()\n",
    "x_train=x_train/255\n",
    "x_test=x_test/255"
   ]
  },
  {
   "cell_type": "code",
   "execution_count": 3,
   "id": "7609b00f",
   "metadata": {},
   "outputs": [],
   "source": [
    "tsb=tf.keras.callbacks.TensorBoard(log_dir=\"logs/\")"
   ]
  },
  {
   "cell_type": "code",
   "execution_count": 4,
   "id": "dd8f8854",
   "metadata": {},
   "outputs": [],
   "source": [
    "model=tf.keras.models.Sequential([\n",
    "    tf.keras.layers.Conv2D(64,(3,3),input_shape=(28,28,1),activation=tf.nn.relu),\n",
    "    tf.keras.layers.MaxPool2D(),\n",
    "    tf.keras.layers.Conv2D(64,(3,3),activation=tf.nn.relu),\n",
    "    tf.keras.layers.MaxPool2D(),\n",
    "    tf.keras.layers.Dropout(0.25),\n",
    "    tf.keras.layers.Flatten(),\n",
    "    tf.keras.layers.Dense(128,activation=tf.nn.relu),\n",
    "    tf.keras.layers.Dense(10,activation=tf.nn.softmax),\n",
    "])"
   ]
  },
  {
   "cell_type": "code",
   "execution_count": 5,
   "id": "fed9f800",
   "metadata": {},
   "outputs": [],
   "source": [
    "model.compile(optimizer=\"adam\",loss=tf.keras.losses.SparseCategoricalCrossentropy(),metrics=[\"accuracy\"])"
   ]
  },
  {
   "cell_type": "code",
   "execution_count": 6,
   "id": "7d95e6a2",
   "metadata": {
    "scrolled": false
   },
   "outputs": [
    {
     "name": "stdout",
     "output_type": "stream",
     "text": [
      "Epoch 1/50\n",
      "1875/1875 [==============================] - 60s 32ms/step - loss: 0.1349 - accuracy: 0.9588\n",
      "Epoch 2/50\n",
      "1875/1875 [==============================] - 78s 41ms/step - loss: 0.0501 - accuracy: 0.9840\n",
      "Epoch 3/50\n",
      "1875/1875 [==============================] - 63s 34ms/step - loss: 0.0362 - accuracy: 0.9883\n",
      "Epoch 4/50\n",
      "1875/1875 [==============================] - 64s 34ms/step - loss: 0.0284 - accuracy: 0.9909\n",
      "Epoch 5/50\n",
      "1875/1875 [==============================] - 64s 34ms/step - loss: 0.0223 - accuracy: 0.9927\n",
      "Epoch 6/50\n",
      "1875/1875 [==============================] - 84s 45ms/step - loss: 0.0193 - accuracy: 0.9938\n",
      "Epoch 7/50\n",
      "1875/1875 [==============================] - 76s 41ms/step - loss: 0.0159 - accuracy: 0.9951\n",
      "Epoch 8/50\n",
      "1875/1875 [==============================] - 64s 34ms/step - loss: 0.0131 - accuracy: 0.9956\n",
      "Epoch 9/50\n",
      "1875/1875 [==============================] - 64s 34ms/step - loss: 0.0123 - accuracy: 0.9960\n",
      "Epoch 10/50\n",
      "1875/1875 [==============================] - 64s 34ms/step - loss: 0.0116 - accuracy: 0.9962\n",
      "Epoch 11/50\n",
      "1875/1875 [==============================] - 64s 34ms/step - loss: 0.0095 - accuracy: 0.9970\n",
      "Epoch 12/50\n",
      "1875/1875 [==============================] - 64s 34ms/step - loss: 0.0092 - accuracy: 0.9970\n",
      "Epoch 13/50\n",
      "1875/1875 [==============================] - 64s 34ms/step - loss: 0.0087 - accuracy: 0.9969\n",
      "Epoch 14/50\n",
      "1875/1875 [==============================] - 64s 34ms/step - loss: 0.0097 - accuracy: 0.9969\n",
      "Epoch 15/50\n",
      "1875/1875 [==============================] - 64s 34ms/step - loss: 0.0066 - accuracy: 0.9980\n",
      "Epoch 16/50\n",
      "1875/1875 [==============================] - 64s 34ms/step - loss: 0.0078 - accuracy: 0.9972\n",
      "Epoch 17/50\n",
      "1875/1875 [==============================] - 64s 34ms/step - loss: 0.0067 - accuracy: 0.9977\n",
      "Epoch 18/50\n",
      "1875/1875 [==============================] - 64s 34ms/step - loss: 0.0070 - accuracy: 0.9978\n",
      "Epoch 19/50\n",
      "1875/1875 [==============================] - 64s 34ms/step - loss: 0.0062 - accuracy: 0.9980\n",
      "Epoch 20/50\n",
      "1875/1875 [==============================] - 64s 34ms/step - loss: 0.0065 - accuracy: 0.9980\n",
      "Epoch 21/50\n",
      "1875/1875 [==============================] - 64s 34ms/step - loss: 0.0063 - accuracy: 0.9978\n",
      "Epoch 22/50\n",
      "1875/1875 [==============================] - 64s 34ms/step - loss: 0.0055 - accuracy: 0.9982\n",
      "Epoch 23/50\n",
      "1875/1875 [==============================] - 64s 34ms/step - loss: 0.0066 - accuracy: 0.9980\n",
      "Epoch 24/50\n",
      "1875/1875 [==============================] - 64s 34ms/step - loss: 0.0056 - accuracy: 0.9984\n",
      "Epoch 25/50\n",
      "1875/1875 [==============================] - 64s 34ms/step - loss: 0.0048 - accuracy: 0.9985\n",
      "Epoch 26/50\n",
      "1875/1875 [==============================] - 64s 34ms/step - loss: 0.0064 - accuracy: 0.9979\n",
      "Epoch 27/50\n",
      "1875/1875 [==============================] - 64s 34ms/step - loss: 0.0052 - accuracy: 0.9984\n",
      "Epoch 28/50\n",
      "1875/1875 [==============================] - 64s 34ms/step - loss: 0.0046 - accuracy: 0.9986\n",
      "Epoch 29/50\n",
      "1875/1875 [==============================] - 64s 34ms/step - loss: 0.0055 - accuracy: 0.9983\n",
      "Epoch 30/50\n",
      "1875/1875 [==============================] - 64s 34ms/step - loss: 0.0046 - accuracy: 0.9984\n",
      "Epoch 31/50\n",
      "1875/1875 [==============================] - 64s 34ms/step - loss: 0.0042 - accuracy: 0.9986\n",
      "Epoch 32/50\n",
      "1875/1875 [==============================] - 64s 34ms/step - loss: 0.0049 - accuracy: 0.9984\n",
      "Epoch 33/50\n",
      "1875/1875 [==============================] - 64s 34ms/step - loss: 0.0050 - accuracy: 0.9984\n",
      "Epoch 34/50\n",
      "1875/1875 [==============================] - 64s 34ms/step - loss: 0.0034 - accuracy: 0.9990\n",
      "Epoch 35/50\n",
      "1875/1875 [==============================] - 64s 34ms/step - loss: 0.0051 - accuracy: 0.9987\n",
      "Epoch 36/50\n",
      "1875/1875 [==============================] - 64s 34ms/step - loss: 0.0059 - accuracy: 0.9983\n",
      "Epoch 37/50\n",
      "1875/1875 [==============================] - 64s 34ms/step - loss: 0.0040 - accuracy: 0.9988\n",
      "Epoch 38/50\n",
      "1875/1875 [==============================] - 64s 34ms/step - loss: 0.0038 - accuracy: 0.9988\n",
      "Epoch 39/50\n",
      "1875/1875 [==============================] - 64s 34ms/step - loss: 0.0039 - accuracy: 0.9990\n",
      "Epoch 40/50\n",
      "1875/1875 [==============================] - 64s 34ms/step - loss: 0.0042 - accuracy: 0.9987\n",
      "Epoch 41/50\n",
      "1875/1875 [==============================] - 64s 34ms/step - loss: 0.0042 - accuracy: 0.9989\n",
      "Epoch 42/50\n",
      "1875/1875 [==============================] - 64s 34ms/step - loss: 0.0048 - accuracy: 0.9987\n",
      "Epoch 43/50\n",
      "1875/1875 [==============================] - 64s 34ms/step - loss: 0.0038 - accuracy: 0.9988\n",
      "Epoch 44/50\n",
      "1875/1875 [==============================] - 64s 34ms/step - loss: 0.0048 - accuracy: 0.9987\n",
      "Epoch 45/50\n",
      "1875/1875 [==============================] - 64s 34ms/step - loss: 0.0040 - accuracy: 0.9989\n",
      "Epoch 46/50\n",
      "1875/1875 [==============================] - 64s 34ms/step - loss: 0.0037 - accuracy: 0.9989\n",
      "Epoch 47/50\n",
      "1875/1875 [==============================] - 64s 34ms/step - loss: 0.0039 - accuracy: 0.9989\n",
      "Epoch 48/50\n",
      "1875/1875 [==============================] - 64s 34ms/step - loss: 0.0045 - accuracy: 0.9987\n",
      "Epoch 49/50\n",
      "1875/1875 [==============================] - 64s 34ms/step - loss: 0.0042 - accuracy: 0.9989\n",
      "Epoch 50/50\n",
      "1875/1875 [==============================] - 64s 34ms/step - loss: 0.0036 - accuracy: 0.9989\n"
     ]
    },
    {
     "data": {
      "text/plain": [
       "<keras.callbacks.History at 0x23a19b61e20>"
      ]
     },
     "execution_count": 6,
     "metadata": {},
     "output_type": "execute_result"
    }
   ],
   "source": [
    "model.fit(x_train,y_train,epochs=50,callbacks=[tsb])"
   ]
  },
  {
   "cell_type": "code",
   "execution_count": 7,
   "id": "b2c6ce8e",
   "metadata": {},
   "outputs": [
    {
     "name": "stdout",
     "output_type": "stream",
     "text": [
      "Model: \"sequential\"\n",
      "_________________________________________________________________\n",
      " Layer (type)                Output Shape              Param #   \n",
      "=================================================================\n",
      " conv2d (Conv2D)             (None, 26, 26, 64)        640       \n",
      "                                                                 \n",
      " max_pooling2d (MaxPooling2D  (None, 13, 13, 64)       0         \n",
      " )                                                               \n",
      "                                                                 \n",
      " conv2d_1 (Conv2D)           (None, 11, 11, 64)        36928     \n",
      "                                                                 \n",
      " max_pooling2d_1 (MaxPooling  (None, 5, 5, 64)         0         \n",
      " 2D)                                                             \n",
      "                                                                 \n",
      " dropout (Dropout)           (None, 5, 5, 64)          0         \n",
      "                                                                 \n",
      " flatten (Flatten)           (None, 1600)              0         \n",
      "                                                                 \n",
      " dense (Dense)               (None, 128)               204928    \n",
      "                                                                 \n",
      " dense_1 (Dense)             (None, 10)                1290      \n",
      "                                                                 \n",
      "=================================================================\n",
      "Total params: 243,786\n",
      "Trainable params: 243,786\n",
      "Non-trainable params: 0\n",
      "_________________________________________________________________\n"
     ]
    }
   ],
   "source": [
    "model.summary()"
   ]
  },
  {
   "cell_type": "code",
   "execution_count": 8,
   "id": "60d4aeb1",
   "metadata": {},
   "outputs": [
    {
     "name": "stdout",
     "output_type": "stream",
     "text": [
      "313/313 [==============================] - 4s 11ms/step - loss: 0.0565 - accuracy: 0.9938\n",
      "Test Accuracy :  0.9937999844551086\n"
     ]
    }
   ],
   "source": [
    "test_loss,test_acc=model.evaluate(x_test,y_test)\n",
    "print(\"Test Accuracy : \",test_acc)"
   ]
  },
  {
   "cell_type": "code",
   "execution_count": 11,
   "id": "9b1340d1",
   "metadata": {},
   "outputs": [],
   "source": [
    "model.save(\"mnist.h5\")"
   ]
  },
  {
   "cell_type": "code",
   "execution_count": 12,
   "id": "a7e35866",
   "metadata": {
    "scrolled": false
   },
   "outputs": [
    {
     "name": "stdout",
     "output_type": "stream",
     "text": [
      "INFO:tensorflow:Assets written to: mnist.model\\assets\n"
     ]
    },
    {
     "name": "stderr",
     "output_type": "stream",
     "text": [
      "INFO:tensorflow:Assets written to: mnist.model\\assets\n"
     ]
    }
   ],
   "source": [
    "model.save(\"mnist.model\")"
   ]
  },
  {
   "cell_type": "code",
   "execution_count": 13,
   "id": "2d771f61",
   "metadata": {
    "scrolled": true
   },
   "outputs": [
    {
     "name": "stdout",
     "output_type": "stream",
     "text": [
      "INFO:tensorflow:Assets written to: C:\\Users\\speed\\AppData\\Local\\Temp\\tmpcqif0dxw\\assets\n"
     ]
    },
    {
     "name": "stderr",
     "output_type": "stream",
     "text": [
      "INFO:tensorflow:Assets written to: C:\\Users\\speed\\AppData\\Local\\Temp\\tmpcqif0dxw\\assets\n",
      "WARNING:absl:Buffer deduplication procedure will be skipped when flatbuffer library is not properly loaded\n"
     ]
    }
   ],
   "source": [
    "lite_converter=tf.lite.TFLiteConverter.from_keras_model(model)\n",
    "with open(\"mnist.tflite\",\"wb\")as f:\n",
    "    f.write(lite_converter.convert())"
   ]
  }
 ],
 "metadata": {
  "kernelspec": {
   "display_name": "Python 3 (ipykernel)",
   "language": "python",
   "name": "python3"
  },
  "language_info": {
   "codemirror_mode": {
    "name": "ipython",
    "version": 3
   },
   "file_extension": ".py",
   "mimetype": "text/x-python",
   "name": "python",
   "nbconvert_exporter": "python",
   "pygments_lexer": "ipython3",
   "version": "3.9.7"
  }
 },
 "nbformat": 4,
 "nbformat_minor": 5
}
